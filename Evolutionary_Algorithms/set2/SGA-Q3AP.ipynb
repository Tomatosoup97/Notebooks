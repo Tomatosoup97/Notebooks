{
 "cells": [
  {
   "cell_type": "code",
   "execution_count": 2,
   "metadata": {},
   "outputs": [],
   "source": [
    "import numpy as np\n",
    "import matplotlib.pyplot as plt\n",
    "import time\n",
    "import urllib\n",
    "from functools import partial, reduce\n",
    "from collections import defaultdict, Counter\n",
    "\n",
    "def compose(*funcs):\n",
    "    return reduce(lambda f, g: lambda *args: f(*g(*args)), funcs, lambda *args: args)\n",
    "\n",
    "%matplotlib inline\n",
    "%load_ext autoreload\n",
    "%autoreload 2"
   ]
  },
  {
   "cell_type": "code",
   "execution_count": 3,
   "metadata": {},
   "outputs": [],
   "source": [
    "from sga import *\n",
    "from operators import *\n",
    "from mutations import *\n",
    "from plot import *"
   ]
  },
  {
   "cell_type": "code",
   "execution_count": 4,
   "metadata": {},
   "outputs": [],
   "source": [
    "opts = {\n",
    "    8: 134,\n",
    "    10: 430,\n",
    "    12: 580,\n",
    "    13: 1912,\n",
    "    14: 2320,\n",
    "    15: 2230,\n",
    "    16: 16898,\n",
    "    '16a': 16898,\n",
    "    20: 7750,\n",
    "    30: 28706,\n",
    "}"
   ]
  },
  {
   "cell_type": "code",
   "execution_count": 5,
   "metadata": {},
   "outputs": [
    {
     "name": "stdout",
     "output_type": "stream",
     "text": [
      "Fetching problem size: 12\n",
      "OPT: 580\n"
     ]
    }
   ],
   "source": [
    "import urllib.request\n",
    "\n",
    "nug_instance = 12\n",
    "results = {}\n",
    "\n",
    "\n",
    "def get_tai_name(n):\n",
    "    return 'tai{}a'.format(n)\n",
    "\n",
    "\n",
    "def get_qap_instance_url(name):\n",
    "    return 'http://anjos.mgi.polymtl.ca/qaplib/data.d/{}.dat'.format(name)\n",
    "\n",
    "\n",
    "def get_qap_data(nug_instance, get_name=lambda n: 'nug{}'.format(n)):\n",
    "    qap_instance_file = urllib.request.urlopen(get_qap_instance_url(get_name(nug_instance)))\n",
    "    \n",
    "    line = qap_instance_file.readline()\n",
    "    n = int(line.decode()[:-1].split()[0])\n",
    "    print('Fetching problem size: %d' % n)\n",
    "    print('OPT: %d' % opts[n])\n",
    "\n",
    "    A = np.empty((n, n))\n",
    "    if n <= 30:\n",
    "        qap_instance_file.readline()\n",
    "    for i in range(n):\n",
    "        line = qap_instance_file.readline()\n",
    "        A[i, :] = list(map(int, line.decode()[:-1].split()))\n",
    "\n",
    "    B = np.empty((n, n))\n",
    "    if n != 50:\n",
    "        qap_instance_file.readline()\n",
    "    for i in range(n):\n",
    "        line = qap_instance_file.readline()\n",
    "        B[i, :] = list(map(int, line.decode()[:-1].split()))\n",
    "    return A, B\n",
    "\n",
    "\n",
    "flow, distance = get_qap_data(nug_instance)\n"
   ]
  },
  {
   "cell_type": "code",
   "execution_count": 6,
   "metadata": {},
   "outputs": [],
   "source": [
    "def q3ap_objective_function(n, A, pq):\n",
    "    p, q = pq\n",
    "    flow, distance = A\n",
    "    distance, flow = A\n",
    "    s = 0.0\n",
    "    for i in range(n):\n",
    "        for j in range(n):\n",
    "            s += flow[p[i], p[j]] * flow[q[i], q[j]] * distance[i, j]**2\n",
    "    return s"
   ]
  },
  {
   "cell_type": "code",
   "execution_count": 7,
   "metadata": {},
   "outputs": [
    {
     "name": "stdout",
     "output_type": "stream",
     "text": [
      "[11  6  8  2  3  7 10  0  4  5  9  1]\n",
      "Fetching problem size: 12\n",
      "OPT: 580\n",
      "5352.0\n",
      "5030.0\n",
      "580.0\n"
     ]
    }
   ],
   "source": [
    "from sga import *\n",
    "n = 12\n",
    "p = np.array([12,7,9,3,4,8,11,1,5,6,10,2]) - 1\n",
    "print(p)\n",
    "\n",
    "pq = gen_random_double_sample(n)\n",
    "flow, distance = get_qap_data(n)\n",
    "print(q3ap_objective_function(n, (flow, distance), pq))\n",
    "\n",
    "pq = (p, p)\n",
    "print(q3ap_objective_function(n, (flow, distance), pq))\n",
    "pq = [1, 6, 5, 7, 4, 3, 8, 2, 9, 10, 11, 0], [7, 5, 1, 2, 10, 6, 8, 9, 11, 3, 0, 4]\n",
    "print(q3ap_objective_function(n, (flow, distance), pq))\n"
   ]
  },
  {
   "cell_type": "code",
   "execution_count": 10,
   "metadata": {
    "scrolled": false
   },
   "outputs": [
    {
     "name": "stdout",
     "output_type": "stream",
     "text": [
      "Fetching problem size: 12\n",
      "OPT: 580\n",
      "  0     0.57780957 min: 2426.00000000 mean: 4811.56533333 max: 5806.00000000 std: 684.19108666\n",
      " 10     6.47514415 min: 1914.00000000 mean: 2665.15200000 max: 2952.00000000 std: 201.11741404\n",
      " 20    12.06814480 min: 1570.00000000 mean: 2130.44400000 max: 2298.00000000 std: 187.10382910\n",
      " 30    18.66571951 min: 1178.00000000 mean: 1622.10266667 max: 1686.00000000 std:  48.69789995\n",
      " 40    25.85374546 min: 1176.00000000 mean: 1284.84266667 max: 1432.00000000 std:  97.80170029\n"
     ]
    },
    {
     "ename": "KeyboardInterrupt",
     "evalue": "",
     "output_type": "error",
     "traceback": [
      "\u001b[0;31m---------------------------------------------------------------------------\u001b[0m",
      "\u001b[0;31mKeyboardInterrupt\u001b[0m                         Traceback (most recent call last)",
      "\u001b[0;32m<ipython-input-10-9345cf316f29>\u001b[0m in \u001b[0;36m<module>\u001b[0;34m\u001b[0m\n\u001b[1;32m     17\u001b[0m }\n\u001b[1;32m     18\u001b[0m \u001b[0;34m\u001b[0m\u001b[0m\n\u001b[0;32m---> 19\u001b[0;31m \u001b[0mresults\u001b[0m \u001b[0;34m=\u001b[0m \u001b[0msga\u001b[0m\u001b[0;34m(\u001b[0m\u001b[0;34m**\u001b[0m\u001b[0mparams\u001b[0m\u001b[0;34m)\u001b[0m\u001b[0;34m\u001b[0m\u001b[0;34m\u001b[0m\u001b[0m\n\u001b[0m\u001b[1;32m     20\u001b[0m \u001b[0;34m\u001b[0m\u001b[0m\n\u001b[1;32m     21\u001b[0m \u001b[0mplot_sga_results\u001b[0m\u001b[0;34m(\u001b[0m\u001b[0mn\u001b[0m\u001b[0;34m,\u001b[0m \u001b[0mopts\u001b[0m\u001b[0;34m,\u001b[0m \u001b[0;34m**\u001b[0m\u001b[0mresults\u001b[0m\u001b[0;34m)\u001b[0m\u001b[0;34m\u001b[0m\u001b[0;34m\u001b[0m\u001b[0m\n",
      "\u001b[0;32m~/Notebooks/Evolutionary_Algorithms/set2/sga.py\u001b[0m in \u001b[0;36msga\u001b[0;34m(T, distance_matrix, crossover_operator, mutation_operator, population_size, chromosome_length, crossover_probability, mutation_probability, objective_func, local_search_probability, local_search_k, gen_initial_sample, gen_random_sample)\u001b[0m\n\u001b[1;32m    126\u001b[0m         children_population = create_children_population(current_population, parent_indices,\n\u001b[1;32m    127\u001b[0m                                                          \u001b[0mnumber_of_offspring\u001b[0m\u001b[0;34m,\u001b[0m \u001b[0mchromosome_length\u001b[0m\u001b[0;34m,\u001b[0m\u001b[0;34m\u001b[0m\u001b[0;34m\u001b[0m\u001b[0m\n\u001b[0;32m--> 128\u001b[0;31m                                                          crossover_operator, crossover_probability)\n\u001b[0m\u001b[1;32m    129\u001b[0m \u001b[0;34m\u001b[0m\u001b[0m\n\u001b[1;32m    130\u001b[0m         \u001b[0mmutation\u001b[0m\u001b[0;34m(\u001b[0m\u001b[0mmutation_operator\u001b[0m\u001b[0;34m,\u001b[0m \u001b[0mchildren_population\u001b[0m\u001b[0;34m,\u001b[0m \u001b[0mnumber_of_offspring\u001b[0m\u001b[0;34m,\u001b[0m \u001b[0mmutation_probability\u001b[0m\u001b[0;34m)\u001b[0m\u001b[0;34m\u001b[0m\u001b[0;34m\u001b[0m\u001b[0m\n",
      "\u001b[0;32m~/Notebooks/Evolutionary_Algorithms/set2/sga.py\u001b[0m in \u001b[0;36mcreate_children_population\u001b[0;34m(population, parent_indices, number_of_offspring, chromosome_length, crossover_operator, crossover_probability)\u001b[0m\n\u001b[1;32m     65\u001b[0m             \u001b[0mchildren_population\u001b[0m\u001b[0;34m[\u001b[0m\u001b[0;36m2\u001b[0m\u001b[0;34m*\u001b[0m\u001b[0mi\u001b[0m\u001b[0;34m,\u001b[0m \u001b[0;34m:\u001b[0m\u001b[0;34m]\u001b[0m\u001b[0;34m,\u001b[0m \u001b[0mchildren_population\u001b[0m\u001b[0;34m[\u001b[0m\u001b[0;36m2\u001b[0m\u001b[0;34m*\u001b[0m\u001b[0mi\u001b[0m\u001b[0;34m+\u001b[0m\u001b[0;36m1\u001b[0m\u001b[0;34m,\u001b[0m \u001b[0;34m:\u001b[0m\u001b[0;34m]\u001b[0m \u001b[0;34m=\u001b[0m\u001b[0;31m \u001b[0m\u001b[0;31m\\\u001b[0m\u001b[0;34m\u001b[0m\u001b[0;34m\u001b[0m\u001b[0m\n\u001b[1;32m     66\u001b[0m                 crossover_operator(population[parent_indices[2*i], :].copy(),\n\u001b[0;32m---> 67\u001b[0;31m                                    population[parent_indices[2*i+1], :].copy())\n\u001b[0m\u001b[1;32m     68\u001b[0m         \u001b[0;32melse\u001b[0m\u001b[0;34m:\u001b[0m\u001b[0;34m\u001b[0m\u001b[0;34m\u001b[0m\u001b[0m\n\u001b[1;32m     69\u001b[0m             \u001b[0mchildren_population\u001b[0m\u001b[0;34m[\u001b[0m\u001b[0;36m2\u001b[0m\u001b[0;34m*\u001b[0m\u001b[0mi\u001b[0m\u001b[0;34m,\u001b[0m \u001b[0;34m:\u001b[0m\u001b[0;34m]\u001b[0m\u001b[0;34m,\u001b[0m \u001b[0mchildren_population\u001b[0m\u001b[0;34m[\u001b[0m\u001b[0;36m2\u001b[0m\u001b[0;34m*\u001b[0m\u001b[0mi\u001b[0m\u001b[0;34m+\u001b[0m\u001b[0;36m1\u001b[0m\u001b[0;34m,\u001b[0m \u001b[0;34m:\u001b[0m\u001b[0;34m]\u001b[0m \u001b[0;34m=\u001b[0m\u001b[0;31m \u001b[0m\u001b[0;31m\\\u001b[0m\u001b[0;34m\u001b[0m\u001b[0;34m\u001b[0m\u001b[0m\n",
      "\u001b[0;32m~/Notebooks/Evolutionary_Algorithms/set2/operators.py\u001b[0m in \u001b[0;36mdouble_pmx_crossover\u001b[0;34m(pq1, pq2)\u001b[0m\n\u001b[1;32m     76\u001b[0m     \u001b[0mp1\u001b[0m\u001b[0;34m,\u001b[0m \u001b[0mq1\u001b[0m \u001b[0;34m=\u001b[0m \u001b[0mpq1\u001b[0m\u001b[0;34m\u001b[0m\u001b[0;34m\u001b[0m\u001b[0m\n\u001b[1;32m     77\u001b[0m     \u001b[0mp2\u001b[0m\u001b[0;34m,\u001b[0m \u001b[0mq2\u001b[0m \u001b[0;34m=\u001b[0m \u001b[0mpq2\u001b[0m\u001b[0;34m\u001b[0m\u001b[0;34m\u001b[0m\u001b[0m\n\u001b[0;32m---> 78\u001b[0;31m     \u001b[0;32mreturn\u001b[0m \u001b[0mpmx_crossover\u001b[0m\u001b[0;34m(\u001b[0m\u001b[0mp1\u001b[0m\u001b[0;34m,\u001b[0m \u001b[0mq1\u001b[0m\u001b[0;34m)\u001b[0m\u001b[0;34m,\u001b[0m \u001b[0mpmx_crossover\u001b[0m\u001b[0;34m(\u001b[0m\u001b[0mp2\u001b[0m\u001b[0;34m,\u001b[0m \u001b[0mq2\u001b[0m\u001b[0;34m)\u001b[0m\u001b[0;34m\u001b[0m\u001b[0;34m\u001b[0m\u001b[0m\n\u001b[0m\u001b[1;32m     79\u001b[0m \u001b[0;34m\u001b[0m\u001b[0m\n\u001b[1;32m     80\u001b[0m \u001b[0;34m\u001b[0m\u001b[0m\n",
      "\u001b[0;32m~/Notebooks/Evolutionary_Algorithms/set2/operators.py\u001b[0m in \u001b[0;36mpmx_crossover\u001b[0;34m(p1, p2)\u001b[0m\n\u001b[1;32m     70\u001b[0m     \u001b[0;31m# Partially-mapped crossover\u001b[0m\u001b[0;34m\u001b[0m\u001b[0;34m\u001b[0m\u001b[0;34m\u001b[0m\u001b[0m\n\u001b[1;32m     71\u001b[0m     \u001b[0mi\u001b[0m\u001b[0;34m,\u001b[0m \u001b[0mj\u001b[0m \u001b[0;34m=\u001b[0m \u001b[0mrandom_partition\u001b[0m\u001b[0;34m(\u001b[0m\u001b[0mlen\u001b[0m\u001b[0;34m(\u001b[0m\u001b[0mp1\u001b[0m\u001b[0;34m)\u001b[0m\u001b[0;34m)\u001b[0m\u001b[0;34m\u001b[0m\u001b[0;34m\u001b[0m\u001b[0m\n\u001b[0;32m---> 72\u001b[0;31m     \u001b[0;32mreturn\u001b[0m \u001b[0m_pmx\u001b[0m\u001b[0;34m(\u001b[0m\u001b[0mp1\u001b[0m\u001b[0;34m,\u001b[0m \u001b[0mp2\u001b[0m\u001b[0;34m,\u001b[0m \u001b[0mi\u001b[0m\u001b[0;34m,\u001b[0m \u001b[0mj\u001b[0m\u001b[0;34m)\u001b[0m\u001b[0;34m,\u001b[0m \u001b[0m_pmx\u001b[0m\u001b[0;34m(\u001b[0m\u001b[0mp2\u001b[0m\u001b[0;34m,\u001b[0m \u001b[0mp1\u001b[0m\u001b[0;34m,\u001b[0m \u001b[0mi\u001b[0m\u001b[0;34m,\u001b[0m \u001b[0mj\u001b[0m\u001b[0;34m)\u001b[0m\u001b[0;34m\u001b[0m\u001b[0;34m\u001b[0m\u001b[0m\n\u001b[0m\u001b[1;32m     73\u001b[0m \u001b[0;34m\u001b[0m\u001b[0m\n\u001b[1;32m     74\u001b[0m \u001b[0;34m\u001b[0m\u001b[0m\n",
      "\u001b[0;32m~/Notebooks/Evolutionary_Algorithms/set2/operators.py\u001b[0m in \u001b[0;36m_pmx\u001b[0;34m(p1, p2, i, j)\u001b[0m\n\u001b[1;32m      8\u001b[0m     \u001b[0mn\u001b[0m \u001b[0;34m=\u001b[0m \u001b[0mlen\u001b[0m\u001b[0;34m(\u001b[0m\u001b[0mp1\u001b[0m\u001b[0;34m)\u001b[0m\u001b[0;34m\u001b[0m\u001b[0;34m\u001b[0m\u001b[0m\n\u001b[1;32m      9\u001b[0m \u001b[0;34m\u001b[0m\u001b[0m\n\u001b[0;32m---> 10\u001b[0;31m     \u001b[0mc\u001b[0m \u001b[0;34m=\u001b[0m \u001b[0mnp\u001b[0m\u001b[0;34m.\u001b[0m\u001b[0mfull\u001b[0m\u001b[0;34m(\u001b[0m\u001b[0mn\u001b[0m\u001b[0;34m,\u001b[0m \u001b[0;34m-\u001b[0m\u001b[0;36m1\u001b[0m\u001b[0;34m)\u001b[0m\u001b[0;34m\u001b[0m\u001b[0;34m\u001b[0m\u001b[0m\n\u001b[0m\u001b[1;32m     11\u001b[0m     \u001b[0mc\u001b[0m\u001b[0;34m[\u001b[0m\u001b[0mi\u001b[0m\u001b[0;34m:\u001b[0m\u001b[0mj\u001b[0m\u001b[0;34m+\u001b[0m\u001b[0;36m1\u001b[0m\u001b[0;34m]\u001b[0m \u001b[0;34m=\u001b[0m \u001b[0mp1\u001b[0m\u001b[0;34m[\u001b[0m\u001b[0mi\u001b[0m\u001b[0;34m:\u001b[0m\u001b[0mj\u001b[0m\u001b[0;34m+\u001b[0m\u001b[0;36m1\u001b[0m\u001b[0;34m]\u001b[0m\u001b[0;34m\u001b[0m\u001b[0;34m\u001b[0m\u001b[0m\n\u001b[1;32m     12\u001b[0m \u001b[0;34m\u001b[0m\u001b[0m\n",
      "\u001b[0;32m~/anaconda3/lib/python3.7/site-packages/numpy/core/numeric.py\u001b[0m in \u001b[0;36mfull\u001b[0;34m(shape, fill_value, dtype, order)\u001b[0m\n\u001b[1;32m    308\u001b[0m         \u001b[0mdtype\u001b[0m \u001b[0;34m=\u001b[0m \u001b[0marray\u001b[0m\u001b[0;34m(\u001b[0m\u001b[0mfill_value\u001b[0m\u001b[0;34m)\u001b[0m\u001b[0;34m.\u001b[0m\u001b[0mdtype\u001b[0m\u001b[0;34m\u001b[0m\u001b[0;34m\u001b[0m\u001b[0m\n\u001b[1;32m    309\u001b[0m     \u001b[0ma\u001b[0m \u001b[0;34m=\u001b[0m \u001b[0mempty\u001b[0m\u001b[0;34m(\u001b[0m\u001b[0mshape\u001b[0m\u001b[0;34m,\u001b[0m \u001b[0mdtype\u001b[0m\u001b[0;34m,\u001b[0m \u001b[0morder\u001b[0m\u001b[0;34m)\u001b[0m\u001b[0;34m\u001b[0m\u001b[0;34m\u001b[0m\u001b[0m\n\u001b[0;32m--> 310\u001b[0;31m     \u001b[0mmultiarray\u001b[0m\u001b[0;34m.\u001b[0m\u001b[0mcopyto\u001b[0m\u001b[0;34m(\u001b[0m\u001b[0ma\u001b[0m\u001b[0;34m,\u001b[0m \u001b[0mfill_value\u001b[0m\u001b[0;34m,\u001b[0m \u001b[0mcasting\u001b[0m\u001b[0;34m=\u001b[0m\u001b[0;34m'unsafe'\u001b[0m\u001b[0;34m)\u001b[0m\u001b[0;34m\u001b[0m\u001b[0;34m\u001b[0m\u001b[0m\n\u001b[0m\u001b[1;32m    311\u001b[0m     \u001b[0;32mreturn\u001b[0m \u001b[0ma\u001b[0m\u001b[0;34m\u001b[0m\u001b[0;34m\u001b[0m\u001b[0m\n\u001b[1;32m    312\u001b[0m \u001b[0;34m\u001b[0m\u001b[0m\n",
      "\u001b[0;31mKeyboardInterrupt\u001b[0m: "
     ]
    }
   ],
   "source": [
    "n = 12\n",
    "flow, distance = get_qap_data(n)\n",
    "params = {\n",
    "    'T': 100,\n",
    "    'population_size': 1500,\n",
    "    'chromosome_length': n,\n",
    "    'crossover_probability': 0.95,\n",
    "    'mutation_probability': 0.35,\n",
    "    'distance_matrix': (flow, distance),\n",
    "    'crossover_operator': double_pmx_crossover,\n",
    "    'local_search_probability': 0.0,\n",
    "    'local_search_k': 3,\n",
    "    'mutation_operator': k_double_scramble_mutation(3),\n",
    "    'objective_func': q3ap_objective_function,\n",
    "    'gen_initial_sample': gen_double_initial_sample,\n",
    "    'gen_random_sample': gen_random_double_sample,\n",
    "}\n",
    "\n",
    "results = sga(**params)\n",
    "\n",
    "plot_sga_results(n, opts, **results)"
   ]
  },
  {
   "cell_type": "code",
   "execution_count": 49,
   "metadata": {},
   "outputs": [
    {
     "name": "stdout",
     "output_type": "stream",
     "text": [
      "Fetching problem size: 14\n",
      "OPT: 2320\n",
      "  0     0.42899799 min: 13530.00000000 mean: 17570.97600000 max: 19314.00000000 std: 1235.71681522\n",
      " 20     7.81205082 min: 10784.00000000 mean: 11745.13800000 max: 12130.00000000 std: 315.58692773\n",
      " 40    15.04929590 min: 9834.00000000 mean: 10115.67800000 max: 10442.00000000 std: 200.81941220\n",
      " 60    22.48602295 min: 9282.00000000 mean: 9282.00000000 max: 9282.00000000 std:   0.00000000\n",
      " 80    29.95544696 min: 9268.00000000 mean: 9268.00000000 max: 9268.00000000 std:   0.00000000\n",
      "100    37.46019292 min: 9204.00000000 mean: 9248.78400000 max: 9268.00000000 std:  29.13625480\n",
      "120    44.88809395 min: 9204.00000000 mean: 9204.00000000 max: 9204.00000000 std:   0.00000000\n",
      "140    52.30436897 min: 9136.00000000 mean: 9136.00000000 max: 9136.00000000 std:   0.00000000\n",
      "160    59.67981601 min: 9136.00000000 mean: 9136.00000000 max: 9136.00000000 std:   0.00000000\n",
      "180    66.89092684 min: 9136.00000000 mean: 9136.00000000 max: 9136.00000000 std:   0.00000000\n",
      "199    73.75288486 min: 9136.00000000 mean: 9136.00000000 max: 9136.00000000 std:   0.00000000\n",
      "Results for 14\n",
      "Min cost: 9136.0\n",
      "OPT cost: 2320\n",
      "Relative error: 293.79%\n",
      "Absolute error: 6816.0\n",
      "costs mean: 9561.34\n",
      "costs std: 820.991476448\n"
     ]
    },
    {
     "data": {
      "image/png": "[encoded data removed]",
      "text/plain": [
       "<matplotlib.figure.Figure at 0x7f12b1fd7f50>"
      ]
     },
     "metadata": {},
     "output_type": "display_data"
    }
   ],
   "source": [
    "n = 14\n",
    "flow, distance = get_qap_data(n)\n",
    "params = {\n",
    "    'T': 200,\n",
    "    'population_size': 1000,\n",
    "    'chromosome_length': n,\n",
    "    'crossover_probability': 0.85,\n",
    "    'mutation_probability': 0.30,\n",
    "    'distance_matrix': (flow, distance),\n",
    "    'crossover_operator': double_pmx_crossover,\n",
    "    'local_search_probability': 0.0,\n",
    "    'local_search_k': 3,\n",
    "    'mutation_operator': k_double_scramble_mutation(3),\n",
    "    'objective_func': q3ap_objective_function,\n",
    "    'gen_initial_sample': gen_double_initial_sample,\n",
    "    'gen_random_sample': gen_random_double_sample,\n",
    "}\n",
    "\n",
    "results = sga(**params)\n",
    "\n",
    "plot_sga_results(n, opts, **results)"
   ]
  },
  {
   "cell_type": "code",
   "execution_count": 53,
   "metadata": {},
   "outputs": [
    {
     "name": "stdout",
     "output_type": "stream",
     "text": [
      "Fetching problem size: 16\n",
      "OPT: 16898\n",
      "  0     0.50756192 min: 25388.00000000 mean: 33070.53400000 max: 35836.00000000 std: 1961.44327240\n",
      " 20     9.70313096 min: 20844.00000000 mean: 23330.62000000 max: 24104.00000000 std: 537.37178154\n",
      " 40    18.86411691 min: 19560.00000000 mean: 20860.83200000 max: 21352.00000000 std: 378.24760644\n",
      " 60    28.08071494 min: 18574.00000000 mean: 19721.24600000 max: 19924.00000000 std: 151.91851594\n",
      " 80    37.32464790 min: 18022.00000000 mean: 18357.28600000 max: 18574.00000000 std: 243.23581604\n",
      "100    46.48786402 min: 17816.00000000 mean: 17903.02200000 max: 17932.00000000 std:  49.76793663\n",
      "120    55.74446893 min: 16962.00000000 mean: 17576.51400000 max: 17816.00000000 std: 282.95751590\n",
      "140    64.95666599 min: 16886.00000000 mean: 16886.00000000 max: 16886.00000000 std:   0.00000000\n",
      "160    74.02768707 min: 16802.00000000 mean: 16802.00000000 max: 16802.00000000 std:   0.00000000\n",
      "180    83.24068594 min: 16670.00000000 mean: 16689.90800000 max: 16722.00000000 std:  11.56440816\n",
      "199    92.04664087 min: 16512.00000000 mean: 16580.18200000 max: 16670.00000000 std:  78.17740643\n",
      "Results for 16a\n",
      "Min cost: 16512.0\n",
      "OPT cost: 16898\n",
      "Relative error: 2.28%\n",
      "Absolute error: 386.0\n",
      "costs mean: 18317.6\n",
      "costs std: 1951.57079298\n"
     ]
    },
    {
     "data": {
      "image/png": "[encoded data removed]",
      "text/plain": [
       "<matplotlib.figure.Figure at 0x7f12b0d094d0>"
      ]
     },
     "metadata": {},
     "output_type": "display_data"
    }
   ],
   "source": [
    "problem_name = '16a'\n",
    "n = 16\n",
    "flow, distance = get_qap_data(problem_name)\n",
    "params = {\n",
    "    'T': 200,\n",
    "    'population_size': 1000,\n",
    "    'chromosome_length': n,\n",
    "    'crossover_probability': 0.90,\n",
    "    'mutation_probability': 0.30,\n",
    "    'distance_matrix': (flow, distance),\n",
    "    'crossover_operator': double_pmx_crossover,\n",
    "    'local_search_probability': 0.0,\n",
    "    'local_search_k': 3,\n",
    "    'mutation_operator': k_double_scramble_mutation(3),\n",
    "    'objective_func': q3ap_objective_function,\n",
    "    'gen_initial_sample': gen_double_initial_sample,\n",
    "    'gen_random_sample': gen_random_double_sample,\n",
    "}\n",
    "\n",
    "results = sga(**params)\n",
    "\n",
    "plot_sga_results(problem_name, opts, **results)"
   ]
  },
  {
   "cell_type": "code",
   "execution_count": 36,
   "metadata": {},
   "outputs": [
    {
     "name": "stdout",
     "output_type": "stream",
     "text": [
      "Fetching problem size: 12\n",
      "OPT: 580\n",
      "  0     0.32866788 min: 2308.00000000 mean: 4813.31800000 max: 5828.00000000 std: 698.13475123\n",
      " 10     3.32201505 min: 1592.00000000 mean: 2307.57800000 max: 2506.00000000 std: 140.97816113\n",
      " 20     6.21459985 min: 1342.00000000 mean: 1555.72800000 max: 1644.00000000 std:  53.78719193\n",
      " 30     9.13525867 min: 1342.00000000 mean: 1422.74600000 max: 1492.00000000 std:  71.06137829\n",
      " 40    12.09343791 min: 1216.00000000 mean: 1285.30000000 max: 1342.00000000 std:  62.68420854\n",
      " 50    15.02634668 min: 1216.00000000 mean: 1216.00000000 max: 1216.00000000 std:   0.00000000\n",
      " 60    17.97922564 min: 1216.00000000 mean: 1216.00000000 max: 1216.00000000 std:   0.00000000\n",
      " 70    20.91227698 min: 1216.00000000 mean: 1216.00000000 max: 1216.00000000 std:   0.00000000\n",
      " 80    23.89964175 min: 1216.00000000 mean: 1216.00000000 max: 1216.00000000 std:   0.00000000\n",
      " 90    26.91919470 min: 1216.00000000 mean: 1216.00000000 max: 1216.00000000 std:   0.00000000\n",
      " 99    29.54403520 min: 1216.00000000 mean: 1216.00000000 max: 1216.00000000 std:   0.00000000\n",
      "Results for 12\n",
      "Min cost: 1216.0\n",
      "OPT cost: 580\n",
      "Relative error: 109.66%\n",
      "Absolute error: 636.0\n",
      "costs mean: 1333.2\n",
      "costs std: 249.18523230721354\n"
     ]
    },
    {
     "data": {
      "image/png": "[encoded data removed]",
      "text/plain": [
       "<Figure size 960x320 with 1 Axes>"
      ]
     },
     "metadata": {
      "needs_background": "light"
     },
     "output_type": "display_data"
    }
   ],
   "source": [
    "n = 12\n",
    "flow, distance = get_qap_data(n)\n",
    "params = {\n",
    "    'T': 100,\n",
    "    'population_size': 1000,\n",
    "    'chromosome_length': n,\n",
    "    'crossover_probability': 0.95,\n",
    "    'mutation_probability': 0.25,\n",
    "    'distance_matrix': (flow, distance),\n",
    "    'crossover_operator': double_pmx_crossover,\n",
    "    'local_search_probability': 0.0,\n",
    "    'local_search_k': 3,\n",
    "    'mutation_operator': k_double_scramble_mutation(3),\n",
    "    'objective_func': q3ap_objective_function,\n",
    "    'gen_initial_sample': gen_double_initial_sample,\n",
    "    'gen_random_sample': gen_random_double_sample,\n",
    "}\n",
    "\n",
    "results = sga(**params)\n",
    "\n",
    "plot_sga_results(n, opts, **results)"
   ]
  },
  {
   "cell_type": "code",
   "execution_count": null,
   "metadata": {},
   "outputs": [],
   "source": []
  }
 ],
 "metadata": {
  "kernelspec": {
   "display_name": "Python 3",
   "language": "python",
   "name": "python3"
  },
  "language_info": {
   "codemirror_mode": {
    "name": "ipython",
    "version": 3
   },
   "file_extension": ".py",
   "mimetype": "text/x-python",
   "name": "python",
   "nbconvert_exporter": "python",
   "pygments_lexer": "ipython3",
   "version": "3.7.1"
  }
 },
 "nbformat": 4,
 "nbformat_minor": 2
}
