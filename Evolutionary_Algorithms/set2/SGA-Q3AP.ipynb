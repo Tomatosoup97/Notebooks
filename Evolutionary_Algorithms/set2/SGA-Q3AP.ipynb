{
 "cells": [
  {
   "cell_type": "code",
   "execution_count": 13,
   "metadata": {},
   "outputs": [
    {
     "name": "stdout",
     "output_type": "stream",
     "text": [
      "The autoreload extension is already loaded. To reload it, use:\n",
      "  %reload_ext autoreload\n"
     ]
    }
   ],
   "source": [
    "import numpy as np\n",
    "import matplotlib.pyplot as plt\n",
    "import time\n",
    "import urllib\n",
    "from functools import partial, reduce\n",
    "from collections import defaultdict, Counter\n",
    "\n",
    "def compose(*funcs):\n",
    "    return reduce(lambda f, g: lambda *args: f(*g(*args)), funcs, lambda *args: args)\n",
    "\n",
    "%matplotlib inline\n",
    "%load_ext autoreload\n",
    "%autoreload 2"
   ]
  },
  {
   "cell_type": "code",
   "execution_count": 14,
   "metadata": {
    "collapsed": true
   },
   "outputs": [],
   "source": [
    "from sga import *\n",
    "from operators import *\n",
    "from mutations import *\n",
    "from plot import *"
   ]
  },
  {
   "cell_type": "code",
   "execution_count": 51,
   "metadata": {
    "collapsed": true
   },
   "outputs": [],
   "source": [
    "opts = {\n",
    "    8: 134,\n",
    "    10: 430,\n",
    "    12: 580,\n",
    "    13: 1912,\n",
    "    14: 2320,\n",
    "    15: 2230,\n",
    "    16: 16898,\n",
    "    '16a': 16898,\n",
    "    20: 7750,\n",
    "    30: 28706,\n",
    "}"
   ]
  },
  {
   "cell_type": "code",
   "execution_count": 6,
   "metadata": {},
   "outputs": [
    {
     "name": "stdout",
     "output_type": "stream",
     "text": [
      "Fetching problem size: 12\n",
      "OPT: 580\n"
     ]
    }
   ],
   "source": [
    "nug_instance = 12\n",
    "results = {}\n",
    "\n",
    "\n",
    "def get_tai_name(n):\n",
    "    return 'tai{}a'.format(n)\n",
    "\n",
    "\n",
    "def get_qap_instance_url(name):\n",
    "    return 'http://anjos.mgi.polymtl.ca/qaplib/data.d/{}.dat'.format(name)\n",
    "\n",
    "\n",
    "def get_qap_data(nug_instance, get_name=lambda n: 'nug{}'.format(n)):\n",
    "    qap_instance_file = urllib.urlopen(get_qap_instance_url(get_name(nug_instance)))\n",
    "    \n",
    "    line = qap_instance_file.readline()\n",
    "    n = int(line.decode()[:-1].split()[0])\n",
    "    print('Fetching problem size: %d' % n)\n",
    "    print('OPT: %d' % opts[n])\n",
    "\n",
    "    A = np.empty((n, n))\n",
    "    if n <= 30:\n",
    "        qap_instance_file.readline()\n",
    "    for i in range(n):\n",
    "        line = qap_instance_file.readline()\n",
    "        A[i, :] = list(map(int, line.decode()[:-1].split()))\n",
    "\n",
    "    B = np.empty((n, n))\n",
    "    if n != 50:\n",
    "        qap_instance_file.readline()\n",
    "    for i in range(n):\n",
    "        line = qap_instance_file.readline()\n",
    "        B[i, :] = list(map(int, line.decode()[:-1].split()))\n",
    "    return A, B\n",
    "\n",
    "\n",
    "flow, distance = get_qap_data(nug_instance)\n"
   ]
  },
  {
   "cell_type": "code",
   "execution_count": 19,
   "metadata": {
    "collapsed": true
   },
   "outputs": [],
   "source": [
    "def q3ap_objective_function(n, A, pq):\n",
    "    p, q = pq\n",
    "    flow, distance = A\n",
    "    s = 0.0\n",
    "    for i in range(n):\n",
    "        for j in range(n):\n",
    "            s += flow[p[i], p[j]] * flow[q[i], q[j]] * distance[i, j]**2\n",
    "    return s"
   ]
  },
  {
   "cell_type": "code",
   "execution_count": 52,
   "metadata": {},
   "outputs": [
    {
     "name": "stdout",
     "output_type": "stream",
     "text": [
      "Fetching problem size: 12\n",
      "OPT: 580\n",
      "  0     0.53368998 min: 6726.00000000 mean: 9363.01333333 max: 10542.00000000 std: 798.19466453\n",
      " 10     5.20553184 min: 5482.00000000 mean: 6593.18000000 max: 6928.00000000 std: 267.47753476\n",
      " 20     9.90082097 min: 5156.00000000 mean: 5906.53066667 max: 6138.00000000 std: 179.82735719\n",
      " 30    14.46889496 min: 4970.00000000 mean: 5382.16000000 max: 5526.00000000 std: 122.71274207\n",
      " 40    18.92990088 min: 4902.00000000 mean: 5085.28533333 max: 5138.00000000 std:  63.35362067\n",
      " 50    23.40157700 min: 4898.00000000 mean: 4967.28533333 max: 4970.00000000 std:  10.78523303\n",
      " 60    27.96869183 min: 4898.00000000 mean: 4916.72533333 max: 4964.00000000 std:  20.83437604\n",
      " 70    32.55231595 min: 4652.00000000 mean: 4866.12533333 max: 4902.00000000 std:  34.84748138\n",
      " 80    37.06507897 min: 4652.00000000 mean: 4721.54000000 max: 4832.00000000 std:  87.58580783\n",
      " 90    41.56320691 min: 4644.00000000 mean: 4646.63866667 max: 4652.00000000 std:   3.52969851\n",
      " 99    45.61105990 min: 4620.00000000 mean: 4643.98400000 max: 4644.00000000 std:   0.61947074\n",
      "Results for 12\n",
      "Min cost: 4620.0\n",
      "OPT cost: 580\n",
      "Relative error: 696.55%\n",
      "Absolute error: 4040.0\n",
      "costs mean: 4987.1\n",
      "costs std: 401.908285558\n"
     ]
    },
    {
     "data": {
      "image/png": "[encoded data removed]",
      "text/plain": [
       "<matplotlib.figure.Figure at 0x7f12b0bc0fd0>"
      ]
     },
     "metadata": {},
     "output_type": "display_data"
    }
   ],
   "source": [
    "n = 12\n",
    "flow, distance = get_qap_data(n)\n",
    "params = {\n",
    "    'T': 100,\n",
    "    'population_size': 1500,\n",
    "    'chromosome_length': n,\n",
    "    'crossover_probability': 0.95,\n",
    "    'mutation_probability': 0.25,\n",
    "    'distance_matrix': (flow, distance),\n",
    "    'crossover_operator': double_pmx_crossover,\n",
    "    'local_search_probability': 0.0,\n",
    "    'local_search_k': 3,\n",
    "    'mutation_operator': k_double_scramble_mutation(3),\n",
    "    'objective_func': q3ap_objective_function,\n",
    "    'gen_initial_sample': gen_double_initial_sample,\n",
    "    'gen_random_sample': gen_random_double_sample,\n",
    "}\n",
    "\n",
    "results = sga(**params)\n",
    "\n",
    "plot_sga_results(n, opts, **results)"
   ]
  },
  {
   "cell_type": "code",
   "execution_count": 49,
   "metadata": {},
   "outputs": [
    {
     "name": "stdout",
     "output_type": "stream",
     "text": [
      "Fetching problem size: 14\n",
      "OPT: 2320\n",
      "  0     0.42899799 min: 13530.00000000 mean: 17570.97600000 max: 19314.00000000 std: 1235.71681522\n",
      " 20     7.81205082 min: 10784.00000000 mean: 11745.13800000 max: 12130.00000000 std: 315.58692773\n",
      " 40    15.04929590 min: 9834.00000000 mean: 10115.67800000 max: 10442.00000000 std: 200.81941220\n",
      " 60    22.48602295 min: 9282.00000000 mean: 9282.00000000 max: 9282.00000000 std:   0.00000000\n",
      " 80    29.95544696 min: 9268.00000000 mean: 9268.00000000 max: 9268.00000000 std:   0.00000000\n",
      "100    37.46019292 min: 9204.00000000 mean: 9248.78400000 max: 9268.00000000 std:  29.13625480\n",
      "120    44.88809395 min: 9204.00000000 mean: 9204.00000000 max: 9204.00000000 std:   0.00000000\n",
      "140    52.30436897 min: 9136.00000000 mean: 9136.00000000 max: 9136.00000000 std:   0.00000000\n",
      "160    59.67981601 min: 9136.00000000 mean: 9136.00000000 max: 9136.00000000 std:   0.00000000\n",
      "180    66.89092684 min: 9136.00000000 mean: 9136.00000000 max: 9136.00000000 std:   0.00000000\n",
      "199    73.75288486 min: 9136.00000000 mean: 9136.00000000 max: 9136.00000000 std:   0.00000000\n",
      "Results for 14\n",
      "Min cost: 9136.0\n",
      "OPT cost: 2320\n",
      "Relative error: 293.79%\n",
      "Absolute error: 6816.0\n",
      "costs mean: 9561.34\n",
      "costs std: 820.991476448\n"
     ]
    },
    {
     "data": {
      "image/png": "[encoded data removed]",
      "text/plain": [
       "<matplotlib.figure.Figure at 0x7f12b1fd7f50>"
      ]
     },
     "metadata": {},
     "output_type": "display_data"
    }
   ],
   "source": [
    "n = 14\n",
    "flow, distance = get_qap_data(n)\n",
    "params = {\n",
    "    'T': 200,\n",
    "    'population_size': 1000,\n",
    "    'chromosome_length': n,\n",
    "    'crossover_probability': 0.85,\n",
    "    'mutation_probability': 0.30,\n",
    "    'distance_matrix': (flow, distance),\n",
    "    'crossover_operator': double_pmx_crossover,\n",
    "    'local_search_probability': 0.0,\n",
    "    'local_search_k': 3,\n",
    "    'mutation_operator': k_double_scramble_mutation(3),\n",
    "    'objective_func': q3ap_objective_function,\n",
    "    'gen_initial_sample': gen_double_initial_sample,\n",
    "    'gen_random_sample': gen_random_double_sample,\n",
    "}\n",
    "\n",
    "results = sga(**params)\n",
    "\n",
    "plot_sga_results(n, opts, **results)"
   ]
  },
  {
   "cell_type": "code",
   "execution_count": 53,
   "metadata": {},
   "outputs": [
    {
     "name": "stdout",
     "output_type": "stream",
     "text": [
      "Fetching problem size: 16\n",
      "OPT: 16898\n",
      "  0     0.50756192 min: 25388.00000000 mean: 33070.53400000 max: 35836.00000000 std: 1961.44327240\n",
      " 20     9.70313096 min: 20844.00000000 mean: 23330.62000000 max: 24104.00000000 std: 537.37178154\n",
      " 40    18.86411691 min: 19560.00000000 mean: 20860.83200000 max: 21352.00000000 std: 378.24760644\n",
      " 60    28.08071494 min: 18574.00000000 mean: 19721.24600000 max: 19924.00000000 std: 151.91851594\n",
      " 80    37.32464790 min: 18022.00000000 mean: 18357.28600000 max: 18574.00000000 std: 243.23581604\n",
      "100    46.48786402 min: 17816.00000000 mean: 17903.02200000 max: 17932.00000000 std:  49.76793663\n",
      "120    55.74446893 min: 16962.00000000 mean: 17576.51400000 max: 17816.00000000 std: 282.95751590\n",
      "140    64.95666599 min: 16886.00000000 mean: 16886.00000000 max: 16886.00000000 std:   0.00000000\n",
      "160    74.02768707 min: 16802.00000000 mean: 16802.00000000 max: 16802.00000000 std:   0.00000000\n",
      "180    83.24068594 min: 16670.00000000 mean: 16689.90800000 max: 16722.00000000 std:  11.56440816\n",
      "199    92.04664087 min: 16512.00000000 mean: 16580.18200000 max: 16670.00000000 std:  78.17740643\n",
      "Results for 16a\n",
      "Min cost: 16512.0\n",
      "OPT cost: 16898\n",
      "Relative error: 2.28%\n",
      "Absolute error: 386.0\n",
      "costs mean: 18317.6\n",
      "costs std: 1951.57079298\n"
     ]
    },
    {
     "data": {
      "image/png": "[encoded data removed]",
      "text/plain": [
       "<matplotlib.figure.Figure at 0x7f12b0d094d0>"
      ]
     },
     "metadata": {},
     "output_type": "display_data"
    }
   ],
   "source": [
    "problem_name = '16a'\n",
    "n = 16\n",
    "flow, distance = get_qap_data(problem_name)\n",
    "params = {\n",
    "    'T': 200,\n",
    "    'population_size': 1000,\n",
    "    'chromosome_length': n,\n",
    "    'crossover_probability': 0.90,\n",
    "    'mutation_probability': 0.30,\n",
    "    'distance_matrix': (flow, distance),\n",
    "    'crossover_operator': double_pmx_crossover,\n",
    "    'local_search_probability': 0.0,\n",
    "    'local_search_k': 3,\n",
    "    'mutation_operator': k_double_scramble_mutation(3),\n",
    "    'objective_func': q3ap_objective_function,\n",
    "    'gen_initial_sample': gen_double_initial_sample,\n",
    "    'gen_random_sample': gen_random_double_sample,\n",
    "}\n",
    "\n",
    "results = sga(**params)\n",
    "\n",
    "plot_sga_results(problem_name, opts, **results)"
   ]
  },
  {
   "cell_type": "code",
   "execution_count": null,
   "metadata": {
    "collapsed": true
   },
   "outputs": [],
   "source": []
  }
 ],
 "metadata": {
  "kernelspec": {
   "display_name": "Python 2",
   "language": "python",
   "name": "python2"
  },
  "language_info": {
   "codemirror_mode": {
    "name": "ipython",
    "version": 2
   },
   "file_extension": ".py",
   "mimetype": "text/x-python",
   "name": "python",
   "nbconvert_exporter": "python",
   "pygments_lexer": "ipython2",
   "version": "2.7.13"
  }
 },
 "nbformat": 4,
 "nbformat_minor": 2
}
