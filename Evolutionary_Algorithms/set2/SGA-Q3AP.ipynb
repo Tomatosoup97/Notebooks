{
 "cells": [
  {
   "cell_type": "code",
   "execution_count": 2,
   "metadata": {
    "collapsed": true
   },
   "outputs": [],
   "source": [
    "import numpy as np\n",
    "import matplotlib.pyplot as plt\n",
    "import time\n",
    "import urllib\n",
    "from functools import partial, reduce\n",
    "from collections import defaultdict, Counter\n",
    "\n",
    "def compose(*funcs):\n",
    "    return reduce(lambda f, g: lambda *args: f(*g(*args)), funcs, lambda *args: args)\n",
    "\n",
    "%matplotlib inline\n",
    "%load_ext autoreload\n",
    "%autoreload 2"
   ]
  },
  {
   "cell_type": "code",
   "execution_count": 3,
   "metadata": {
    "collapsed": true
   },
   "outputs": [],
   "source": [
    "from sga import *\n",
    "from operators import *\n",
    "from mutations import *\n",
    "from plot import *"
   ]
  },
  {
   "cell_type": "code",
   "execution_count": 4,
   "metadata": {
    "collapsed": true
   },
   "outputs": [],
   "source": [
    "opts = {\n",
    "    8: 134,\n",
    "    10: 430,\n",
    "    12: 580,\n",
    "    13: 1912,\n",
    "    14: 2320,\n",
    "    15: 2230,\n",
    "    16: 8044,\n",
    "    '16a': 8044,\n",
    "    20: 7750,\n",
    "    30: 28706,\n",
    "}"
   ]
  },
  {
   "cell_type": "code",
   "execution_count": 5,
   "metadata": {},
   "outputs": [
    {
     "name": "stdout",
     "output_type": "stream",
     "text": [
      "Fetching problem size: 12\n",
      "OPT: 580\n"
     ]
    }
   ],
   "source": [
    "nug_instance = 12\n",
    "results = {}\n",
    "\n",
    "\n",
    "def get_tai_name(n):\n",
    "    return 'tai{}a'.format(n)\n",
    "\n",
    "\n",
    "def get_qap_instance_url(name):\n",
    "    return 'http://anjos.mgi.polymtl.ca/qaplib/data.d/{}.dat'.format(name)\n",
    "\n",
    "\n",
    "def get_qap_data(nug_instance, get_name=lambda n: 'nug{}'.format(n)):\n",
    "    qap_instance_file = urllib.urlopen(get_qap_instance_url(get_name(nug_instance)))\n",
    "    \n",
    "    line = qap_instance_file.readline()\n",
    "    n = int(line.decode()[:-1].split()[0])\n",
    "    print('Fetching problem size: %d' % n)\n",
    "    print('OPT: %d' % opts[n])\n",
    "\n",
    "    A = np.empty((n, n))\n",
    "    if n <= 30:\n",
    "        qap_instance_file.readline()\n",
    "    for i in range(n):\n",
    "        line = qap_instance_file.readline()\n",
    "        A[i, :] = list(map(int, line.decode()[:-1].split()))\n",
    "\n",
    "    B = np.empty((n, n))\n",
    "    if n != 50:\n",
    "        qap_instance_file.readline()\n",
    "    for i in range(n):\n",
    "        line = qap_instance_file.readline()\n",
    "        B[i, :] = list(map(int, line.decode()[:-1].split()))\n",
    "    return A, B\n",
    "\n",
    "\n",
    "flow, distance = get_qap_data(nug_instance)\n"
   ]
  },
  {
   "cell_type": "code",
   "execution_count": 6,
   "metadata": {
    "collapsed": true
   },
   "outputs": [],
   "source": [
    "results = {}\n",
    "\n",
    "def q3ap_objective_function(n, A, pq):\n",
    "    p, q = pq\n",
    "    flow, distance = A\n",
    "    distance, flow = A\n",
    "    s = 0.0\n",
    "    for i in range(n):\n",
    "        for j in range(n):\n",
    "            s += flow[p[i], p[j]] * flow[q[i], q[j]] * distance[i, j]**2\n",
    "    return s"
   ]
  },
  {
   "cell_type": "code",
   "execution_count": 7,
   "metadata": {},
   "outputs": [
    {
     "name": "stdout",
     "output_type": "stream",
     "text": [
      "[11  6  8  2  3  7 10  0  4  5  9  1]\n",
      "Fetching problem size: 12\n",
      "OPT: 580\n",
      "9590.0\n",
      "5030.0\n",
      "580.0\n"
     ]
    }
   ],
   "source": [
    "from sga import *\n",
    "n = 12\n",
    "p = np.array([12,7,9,3,4,8,11,1,5,6,10,2]) - 1\n",
    "print(p)\n",
    "\n",
    "pq = gen_random_double_sample(n)\n",
    "flow, distance = get_qap_data(n)\n",
    "print(q3ap_objective_function(n, (flow, distance), pq))\n",
    "\n",
    "pq = (p, p)\n",
    "print(q3ap_objective_function(n, (flow, distance), pq))\n",
    "pq = [1, 6, 5, 7, 4, 3, 8, 2, 9, 10, 11, 0], [7, 5, 1, 2, 10, 6, 8, 9, 11, 3, 0, 4]\n",
    "print(q3ap_objective_function(n, (flow, distance), pq))\n"
   ]
  },
  {
   "cell_type": "code",
   "execution_count": null,
   "metadata": {
    "scrolled": false
   },
   "outputs": [
    {
     "name": "stdout",
     "output_type": "stream",
     "text": [
      "Fetching problem size: 12\n",
      "OPT: 580\n",
      "  0     4.00316596 min: 2134.00000000 mean: 4830.06080000 max: 5838.00000000 std: 686.63750808\n"
     ]
    }
   ],
   "source": [
    "n = 12\n",
    "flow, distance = get_qap_data(n)\n",
    "params = {\n",
    "    'T': 1000,\n",
    "    'population_size': 10000,\n",
    "    'chromosome_length': n,\n",
    "    'crossover_probability': 0.90,\n",
    "    'mutation_probability': 0.35,\n",
    "    'distance_matrix': (flow, distance),\n",
    "    'crossover_operator': double_pmx_crossover,\n",
    "    'local_search_probability': 0.00,\n",
    "    'local_search_k': 3,\n",
    "    'mutation_operator': k_double_scramble_mutation(4),\n",
    "    'objective_func': q3ap_objective_function,\n",
    "    'gen_initial_sample': gen_double_initial_sample,\n",
    "    'gen_random_sample': gen_random_double_sample,\n",
    "}\n",
    "\n",
    "results[n] = sga(**params)\n",
    "\n",
    "plot_sga_results(n, opts, **results[n])"
   ]
  },
  {
   "cell_type": "code",
   "execution_count": null,
   "metadata": {
    "collapsed": true
   },
   "outputs": [],
   "source": [
    "n = 14\n",
    "flow, distance = get_qap_data(n)\n",
    "params = {\n",
    "    'T': 1000,\n",
    "    'population_size': 7000,\n",
    "    'chromosome_length': n,\n",
    "    'crossover_probability': 0.85,\n",
    "    'mutation_probability': 0.30,\n",
    "    'distance_matrix': (flow, distance),\n",
    "    'crossover_operator': double_pmx_crossover,\n",
    "    'local_search_probability': 0.0,\n",
    "    'local_search_k': 3,\n",
    "    'mutation_operator': k_double_scramble_mutation(3),\n",
    "    'objective_func': q3ap_objective_function,\n",
    "    'gen_initial_sample': gen_double_initial_sample,\n",
    "    'gen_random_sample': gen_random_double_sample,\n",
    "}\n",
    "\n",
    "results[n] = sga(**params)\n",
    "\n",
    "plot_sga_results(n, opts, **results[n])"
   ]
  },
  {
   "cell_type": "code",
   "execution_count": null,
   "metadata": {
    "collapsed": true
   },
   "outputs": [],
   "source": [
    "problem_name = '16a'\n",
    "n = 16\n",
    "flow, distance = get_qap_data(problem_name)\n",
    "params = {\n",
    "    'T': 1000,\n",
    "    'population_size': 5000,\n",
    "    'chromosome_length': n,\n",
    "    'crossover_probability': 0.90,\n",
    "    'mutation_probability': 0.30,\n",
    "    'distance_matrix': (flow, distance),\n",
    "    'crossover_operator': double_pmx_crossover,\n",
    "    'local_search_probability': 0.0,\n",
    "    'local_search_k': 3,\n",
    "    'mutation_operator': k_double_scramble_mutation(4),\n",
    "    'objective_func': q3ap_objective_function,\n",
    "    'gen_initial_sample': gen_double_initial_sample,\n",
    "    'gen_random_sample': gen_random_double_sample,\n",
    "}\n",
    "\n",
    "results[n] = sga(**params)\n",
    "\n",
    "plot_sga_results(problem_name, opts, **results[n])"
   ]
  },
  {
   "cell_type": "code",
   "execution_count": null,
   "metadata": {
    "collapsed": true
   },
   "outputs": [],
   "source": [
    "n = 20\n",
    "flow, distance = get_qap_data(n)\n",
    "params = {\n",
    "    'T': 2000,\n",
    "    'population_size': 7000,\n",
    "    'chromosome_length': n,\n",
    "    'crossover_probability': 0.85,\n",
    "    'mutation_probability': 0.30,\n",
    "    'distance_matrix': (flow, distance),\n",
    "    'crossover_operator': double_pmx_crossover,\n",
    "    'local_search_probability': 0.0,\n",
    "    'local_search_k': 3,\n",
    "    'mutation_operator': k_double_scramble_mutation(4),\n",
    "    'objective_func': q3ap_objective_function,\n",
    "    'gen_initial_sample': gen_double_initial_sample,\n",
    "    'gen_random_sample': gen_random_double_sample,\n",
    "}\n",
    "\n",
    "results[n] = sga(**params)\n",
    "\n",
    "plot_sga_results(n, opts, **results[n])"
   ]
  },
  {
   "cell_type": "code",
   "execution_count": null,
   "metadata": {
    "collapsed": true
   },
   "outputs": [],
   "source": [
    "n = 30\n",
    "flow, distance = get_qap_data(n)\n",
    "params = {\n",
    "    'T': 3000,\n",
    "    'population_size': 7000,\n",
    "    'chromosome_length': n,\n",
    "    'crossover_probability': 0.85,\n",
    "    'mutation_probability': 0.30,\n",
    "    'distance_matrix': (flow, distance),\n",
    "    'crossover_operator': double_pmx_crossover,\n",
    "    'local_search_probability': 0.0,\n",
    "    'local_search_k': 3,\n",
    "    'mutation_operator': k_double_scramble_mutation(5),\n",
    "    'objective_func': q3ap_objective_function,\n",
    "    'gen_initial_sample': gen_double_initial_sample,\n",
    "    'gen_random_sample': gen_random_double_sample,\n",
    "}\n",
    "\n",
    "results[n] = sga(**params)\n",
    "\n",
    "plot_sga_results(n, opts, **results[n])"
   ]
  },
  {
   "cell_type": "code",
   "execution_count": 26,
   "metadata": {},
   "outputs": [
    {
     "name": "stdout",
     "output_type": "stream",
     "text": [
      "Results for 12\n",
      "Min cost: 1042.0\n",
      "OPT cost: 580\n",
      "Absolute error: 462.0\n",
      "costs mean: 122.492\n",
      "costs std: 367.843028935\n"
     ]
    },
    {
     "data": {
      "image/png": "[encoded data removed]",
      "text/plain": [
       "<matplotlib.figure.Figure at 0x7f85a9ae23d0>"
      ]
     },
     "metadata": {},
     "output_type": "display_data"
    }
   ],
   "source": [
    "n = 12\n",
    "plot_sga_results(n, opts, **results[n])"
   ]
  },
  {
   "cell_type": "code",
   "execution_count": 27,
   "metadata": {},
   "outputs": [
    {
     "name": "stdout",
     "output_type": "stream",
     "text": [
      "Results for 14\n",
      "Min cost: 3420.0\n",
      "OPT cost: 2320\n",
      "Absolute error: 1100.0\n",
      "costs mean: 473.94\n",
      "costs std: 1309.39733786\n"
     ]
    },
    {
     "data": {
      "image/png": "[encoded data removed]",
      "text/plain": [
       "<matplotlib.figure.Figure at 0x7f85a9a78510>"
      ]
     },
     "metadata": {},
     "output_type": "display_data"
    }
   ],
   "source": [
    "n = 14\n",
    "plot_sga_results(n, opts, **results[n])"
   ]
  },
  {
   "cell_type": "code",
   "execution_count": 28,
   "metadata": {},
   "outputs": [
    {
     "name": "stdout",
     "output_type": "stream",
     "text": [
      "Results for 16\n",
      "Min cost: 8326.0\n",
      "OPT cost: 16898\n",
      "Absolute error: 8572.0\n",
      "costs mean: 1093.47\n",
      "costs std: 2984.77773697\n"
     ]
    },
    {
     "data": {
      "image/png": "[encoded data removed]",
      "text/plain": [
       "<matplotlib.figure.Figure at 0x7f85a99b9ad0>"
      ]
     },
     "metadata": {},
     "output_type": "display_data"
    }
   ],
   "source": [
    "n = 16\n",
    "plot_sga_results(n, opts, **results[n])"
   ]
  },
  {
   "cell_type": "code",
   "execution_count": 29,
   "metadata": {},
   "outputs": [
    {
     "name": "stdout",
     "output_type": "stream",
     "text": [
      "Results for 20\n",
      "Min cost: 12518.0\n",
      "OPT cost: 7750\n",
      "Absolute error: 4768.0\n",
      "costs mean: 1175.123\n",
      "costs std: 4014.08031072\n"
     ]
    },
    {
     "data": {
      "image/png": "[encoded data removed]",
      "text/plain": [
       "<matplotlib.figure.Figure at 0x7f85a98fd5d0>"
      ]
     },
     "metadata": {},
     "output_type": "display_data"
    }
   ],
   "source": [
    "n = 20\n",
    "plot_sga_results(n, opts, **results[n])"
   ]
  },
  {
   "cell_type": "code",
   "execution_count": 1,
   "metadata": {},
   "outputs": [
    {
     "ename": "NameError",
     "evalue": "name 'plot_sga_results' is not defined",
     "output_type": "error",
     "traceback": [
      "\u001b[0;31m---------------------------------------------------------------------------\u001b[0m",
      "\u001b[0;31mNameError\u001b[0m                                 Traceback (most recent call last)",
      "\u001b[0;32m<ipython-input-1-724aaf6e7e7e>\u001b[0m in \u001b[0;36m<module>\u001b[0;34m()\u001b[0m\n\u001b[1;32m      1\u001b[0m \u001b[0mn\u001b[0m \u001b[0;34m=\u001b[0m \u001b[0;36m30\u001b[0m\u001b[0;34m\u001b[0m\u001b[0m\n\u001b[0;32m----> 2\u001b[0;31m \u001b[0mplot_sga_results\u001b[0m\u001b[0;34m(\u001b[0m\u001b[0mn\u001b[0m\u001b[0;34m,\u001b[0m \u001b[0mopts\u001b[0m\u001b[0;34m,\u001b[0m \u001b[0;34m**\u001b[0m\u001b[0mresults\u001b[0m\u001b[0;34m[\u001b[0m\u001b[0mn\u001b[0m\u001b[0;34m]\u001b[0m\u001b[0;34m)\u001b[0m\u001b[0;34m\u001b[0m\u001b[0m\n\u001b[0m",
      "\u001b[0;31mNameError\u001b[0m: name 'plot_sga_results' is not defined"
     ]
    }
   ],
   "source": [
    "n = 30\n",
    "plot_sga_results(n, opts, **results[n])"
   ]
  },
  {
   "cell_type": "code",
   "execution_count": 32,
   "metadata": {},
   "outputs": [
    {
     "name": "stdout",
     "output_type": "stream",
     "text": [
      "[16, 20, 12, 14]\n"
     ]
    }
   ],
   "source": []
  },
  {
   "cell_type": "code",
   "execution_count": null,
   "metadata": {
    "collapsed": true
   },
   "outputs": [],
   "source": []
  }
 ],
 "metadata": {
  "kernelspec": {
   "display_name": "Python 2",
   "language": "python",
   "name": "python2"
  },
  "language_info": {
   "codemirror_mode": {
    "name": "ipython",
    "version": 2
   },
   "file_extension": ".py",
   "mimetype": "text/x-python",
   "name": "python",
   "nbconvert_exporter": "python",
   "pygments_lexer": "ipython2",
   "version": "2.7.15"
  }
 },
 "nbformat": 4,
 "nbformat_minor": 2
}
