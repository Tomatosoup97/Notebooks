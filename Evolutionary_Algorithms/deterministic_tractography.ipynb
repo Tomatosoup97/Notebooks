{
 "cells": [
  {
   "cell_type": "code",
   "execution_count": 1,
   "metadata": {},
   "outputs": [],
   "source": [
    "import numpy as np\n",
    "import matplotlib.pyplot as plt\n",
    "\n",
    "from dipy.tracking.local import LocalTracking, ThresholdTissueClassifier\n",
    "from dipy.tracking.utils import random_seeds_from_mask\n",
    "from dipy.reconst.dti import TensorModel\n",
    "from dipy.reconst.csdeconv import (ConstrainedSphericalDeconvModel,\n",
    "                                   auto_response)\n",
    "from dipy.direction import peaks_from_model\n",
    "from dipy.data import fetch_stanford_hardi, read_stanford_hardi, get_sphere\n",
    "from dipy.segment.mask import median_otsu\n",
    "from dipy.viz import actor, window\n",
    "from dipy.io.image import save_nifti\n",
    "from nibabel.streamlines import save as save_trk\n",
    "from nibabel.streamlines import Tractogram\n",
    "from dipy.tracking.streamline import Streamlines\n"
   ]
  },
  {
   "cell_type": "code",
   "execution_count": 2,
   "metadata": {},
   "outputs": [],
   "source": [
    "def show_slice(mr_img, mask = None):\n",
    "    \n",
    "    slice_id = mr_img.shape[1] // 2\n",
    "    slice_img = mr_img[:, slice_id, :]\n",
    "\n",
    "    plt.figure(figsize=(16, 8))\n",
    "    plt.subplot(1, 2, 1)\n",
    "    plt.imshow(\n",
    "        slice_img.T, vmax=0.5 * np.max(slice_img), \n",
    "        origin='lower', cmap='gray', interpolation='nearest'\n",
    "    )\n",
    "    \n",
    "    if mask is not None:\n",
    "        slice_mask = mask[:, slice_id]\n",
    "        \n",
    "        plt.subplot(1, 2, 2)\n",
    "        plt.imshow(slice_mask.T, origin='lower', cmap='gray', interpolation='nearest')\n",
    "    \n",
    "    plt.show()    "
   ]
  },
  {
   "cell_type": "markdown",
   "metadata": {},
   "source": [
    "# Load sample dMRI data"
   ]
  },
  {
   "cell_type": "code",
   "execution_count": 3,
   "metadata": {},
   "outputs": [
    {
     "name": "stdout",
     "output_type": "stream",
     "text": [
      "Creating new folder /home/mat/.dipy/stanford_hardi\n",
      "Downloading \"HARDI150.nii.gz\" to /home/mat/.dipy/stanford_hardi\n",
      "Download Progress: [#####################################################################################################################################################################] 100.00%  of 87.15 MBDownloading \"HARDI150.bval\" to /home/mat/.dipy/stanford_hardi\n",
      "Download Progress: [#####################################################################################################################################################################] 100.00%  of 0.00 MBDownloading \"HARDI150.bvec\" to /home/mat/.dipy/stanford_hardi\n",
      "Download Progress: [#####################################################################################################################################################################] 100.00%  of 0.00 MBFiles successfully downloaded to /home/mat/.dipy/stanford_hardi\n",
      "Dataset is already in place. If you want to fetch it again please first remove the folder /home/mat/.dipy/stanford_hardi \n"
     ]
    },
    {
     "data": {
      "image/png": "[encoded data removed]",
      "text/plain": [
       "<Figure size 1152x576 with 1 Axes>"
      ]
     },
     "metadata": {
      "needs_background": "light"
     },
     "output_type": "display_data"
    }
   ],
   "source": [
    "fetch_stanford_hardi()\n",
    "img, gtab = read_stanford_hardi()\n",
    "data = img.get_data()\n",
    "\n",
    "show_slice(data[...,0])"
   ]
  },
  {
   "cell_type": "markdown",
   "metadata": {},
   "source": [
    "# Model of the diffusion signal"
   ]
  },
  {
   "cell_type": "code",
   "execution_count": 3,
   "metadata": {},
   "outputs": [
    {
     "ename": "NameError",
     "evalue": "name 'data' is not defined",
     "output_type": "error",
     "traceback": [
      "\u001b[0;31m---------------------------------------------------------------------------\u001b[0m",
      "\u001b[0;31mNameError\u001b[0m                                 Traceback (most recent call last)",
      "\u001b[0;32m<ipython-input-3-66935c8a18ec>\u001b[0m in \u001b[0;36m<module>\u001b[0;34m\u001b[0m\n\u001b[0;32m----> 1\u001b[0;31m \u001b[0m_\u001b[0m\u001b[0;34m,\u001b[0m \u001b[0mmask\u001b[0m \u001b[0;34m=\u001b[0m \u001b[0mmedian_otsu\u001b[0m\u001b[0;34m(\u001b[0m\u001b[0mdata\u001b[0m\u001b[0;34m,\u001b[0m \u001b[0;36m3\u001b[0m\u001b[0;34m,\u001b[0m \u001b[0;36m1\u001b[0m\u001b[0;34m,\u001b[0m \u001b[0;32mFalse\u001b[0m\u001b[0;34m,\u001b[0m \u001b[0mvol_idx\u001b[0m\u001b[0;34m=\u001b[0m\u001b[0mrange\u001b[0m\u001b[0;34m(\u001b[0m\u001b[0;36m10\u001b[0m\u001b[0;34m,\u001b[0m \u001b[0;36m50\u001b[0m\u001b[0;34m)\u001b[0m\u001b[0;34m,\u001b[0m \u001b[0mdilate\u001b[0m\u001b[0;34m=\u001b[0m\u001b[0;36m2\u001b[0m\u001b[0;34m)\u001b[0m\u001b[0;34m\u001b[0m\u001b[0;34m\u001b[0m\u001b[0m\n\u001b[0m\u001b[1;32m      2\u001b[0m \u001b[0mresponse\u001b[0m\u001b[0;34m,\u001b[0m \u001b[0m_\u001b[0m \u001b[0;34m=\u001b[0m \u001b[0mauto_response\u001b[0m\u001b[0;34m(\u001b[0m\u001b[0mgtab\u001b[0m\u001b[0;34m,\u001b[0m \u001b[0mdata\u001b[0m\u001b[0;34m,\u001b[0m \u001b[0mroi_radius\u001b[0m\u001b[0;34m=\u001b[0m\u001b[0;36m10\u001b[0m\u001b[0;34m,\u001b[0m \u001b[0mfa_thr\u001b[0m\u001b[0;34m=\u001b[0m\u001b[0;36m0.7\u001b[0m\u001b[0;34m)\u001b[0m\u001b[0;34m\u001b[0m\u001b[0;34m\u001b[0m\u001b[0m\n\u001b[1;32m      3\u001b[0m \u001b[0;34m\u001b[0m\u001b[0m\n\u001b[1;32m      4\u001b[0m \u001b[0mcsd_model\u001b[0m \u001b[0;34m=\u001b[0m \u001b[0mConstrainedSphericalDeconvModel\u001b[0m\u001b[0;34m(\u001b[0m\u001b[0mgtab\u001b[0m\u001b[0;34m,\u001b[0m \u001b[0mresponse\u001b[0m\u001b[0;34m)\u001b[0m\u001b[0;34m\u001b[0m\u001b[0;34m\u001b[0m\u001b[0m\n\u001b[1;32m      5\u001b[0m csd_peaks = peaks_from_model(model=csd_model,\n",
      "\u001b[0;31mNameError\u001b[0m: name 'data' is not defined"
     ]
    }
   ],
   "source": [
    "_, mask = median_otsu(data, 3, 1, False, vol_idx=range(10, 50), dilate=2)\n",
    "response, _ = auto_response(gtab, data, roi_radius=10, fa_thr=0.7)\n",
    "\n",
    "csd_model = ConstrainedSphericalDeconvModel(gtab, response)\n",
    "csd_peaks = peaks_from_model(model=csd_model,\n",
    "                             data=data,\n",
    "                             sphere=get_sphere('symmetric724'),\n",
    "                             mask=mask,\n",
    "                             relative_peak_threshold=.5,\n",
    "                             min_separation_angle=25,\n",
    "                             parallel=True)"
   ]
  },
  {
   "cell_type": "markdown",
   "metadata": {},
   "source": [
    "# Fractional anisotropy"
   ]
  },
  {
   "cell_type": "code",
   "execution_count": null,
   "metadata": {},
   "outputs": [],
   "source": [
    "tensor_model = TensorModel(gtab, fit_method='WLS')\n",
    "tensor_fit = tensor_model.fit(data, mask)\n",
    "\n",
    "fa = tensor_fit.fa\n",
    "\n",
    "show_slice(fa)"
   ]
  },
  {
   "cell_type": "markdown",
   "metadata": {},
   "source": [
    "# White matter mask"
   ]
  },
  {
   "cell_type": "markdown",
   "metadata": {},
   "source": [
    "TASK: Find optimal threshold value for FA in order to obtain the most accurate white matter mask."
   ]
  },
  {
   "cell_type": "code",
   "execution_count": null,
   "metadata": {},
   "outputs": [],
   "source": [
    "wm_mask = fa > 0.01\n",
    "\n",
    "show_slice(data[...,0], wm_mask)"
   ]
  },
  {
   "cell_type": "markdown",
   "metadata": {},
   "source": [
    "# Run deterministic tractography"
   ]
  },
  {
   "cell_type": "code",
   "execution_count": null,
   "metadata": {},
   "outputs": [],
   "source": [
    "tissue_classifier = ThresholdTissueClassifier(fa, 0.1)\n",
    "seeds = random_seeds_from_mask(wm_mask, seeds_count=1)\n",
    "\n",
    "streamline_generator = LocalTracking(csd_peaks, tissue_classifier,\n",
    "                                     seeds, affine=np.eye(4),\n",
    "                                     step_size=0.5)\n",
    "\n",
    "streamlines = Streamlines(streamline_generator)\n",
    "\n"
   ]
  },
  {
   "cell_type": "code",
   "execution_count": null,
   "metadata": {},
   "outputs": [],
   "source": [
    "ren = window.Renderer()\n",
    "\n",
    "ren.clear()\n",
    "ren.add(actor.line(streamlines))\n",
    "\n",
    "window.show(ren, size=(900, 900))\n"
   ]
  },
  {
   "cell_type": "code",
   "execution_count": null,
   "metadata": {
    "collapsed": true
   },
   "outputs": [],
   "source": []
  }
 ],
 "metadata": {
  "anaconda-cloud": {},
  "kernelspec": {
   "display_name": "Python 3",
   "language": "python",
   "name": "python3"
  },
  "language_info": {
   "codemirror_mode": {
    "name": "ipython",
    "version": 3
   },
   "file_extension": ".py",
   "mimetype": "text/x-python",
   "name": "python",
   "nbconvert_exporter": "python",
   "pygments_lexer": "ipython3",
   "version": "3.7.1"
  }
 },
 "nbformat": 4,
 "nbformat_minor": 1
}
