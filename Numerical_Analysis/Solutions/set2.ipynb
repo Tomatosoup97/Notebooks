{
 "cells": [
  {
   "cell_type": "markdown",
   "metadata": {},
   "source": [
    "## Task 7"
   ]
  },
  {
   "cell_type": "code",
   "execution_count": 23,
   "metadata": {
    "scrolled": false
   },
   "outputs": [
    {
     "name": "stdout",
     "output_type": "stream",
     "text": [
      "10-th: 2.0943947373620322\n",
      "20-th: 2.0943912264366942\n",
      "30-th: 0.0000000000000000\n"
     ]
    },
    {
     "data": {
      "image/png": "[encoded data removed]",
      "text/plain": [
       "<matplotlib.figure.Figure at 0x7fc0b6062518>"
      ]
     },
     "metadata": {},
     "output_type": "display_data"
    },
    {
     "name": "stdout",
     "output_type": "stream",
     "text": [
      "10-th: 2.0943947373328498\n",
      "20-th: 2.0943951023928515\n",
      "30-th: 2.0943951023932001\n"
     ]
    },
    {
     "data": {
      "image/png": "[encoded data removed]",
      "text/plain": [
       "<matplotlib.figure.Figure at 0x7fc0b5f66898>"
      ]
     },
     "metadata": {},
     "output_type": "display_data"
    }
   ],
   "source": [
    "%matplotlib inline\n",
    "\n",
    "import matplotlib.pyplot as plt\n",
    "import numpy as np\n",
    "import math\n",
    "\n",
    "from math import sqrt\n",
    "\n",
    "\n",
    "def output_results(func, iterable):\n",
    "    results = []\n",
    "    for n in iterable:\n",
    "        res = func(n)\n",
    "        results.append(res)\n",
    "        if n % 10 == 0:\n",
    "            print(f'{n}-th: {res:.16f}')\n",
    "\n",
    "    plt.plot(list(iterable), results, 'k')\n",
    "    plt.grid(True)\n",
    "    plt.show()\n",
    "\n",
    "x1 = 2\n",
    "    \n",
    "def f(k):\n",
    "    if k < 2:\n",
    "        return x1\n",
    "    return 2**k * sqrt(2*(1 - sqrt(1 - (f(k-1)/2**k)**2 )))\n",
    "\n",
    "def g(k):\n",
    "    if k < 2:\n",
    "        return x1\n",
    "    prev = g(k-1)\n",
    "    return sqrt(2) * prev / sqrt(1 + sqrt(1 - (prev/2**k)**2))\n",
    "\n",
    "xs = range(1, 35)\n",
    "output_results(f, xs)\n",
    "output_results(g, xs)\n"
   ]
  },
  {
   "cell_type": "code",
   "execution_count": null,
   "metadata": {
    "collapsed": true
   },
   "outputs": [],
   "source": []
  }
 ],
 "metadata": {
  "kernelspec": {
   "display_name": "numerki",
   "language": "python",
   "name": "numerki"
  },
  "language_info": {
   "codemirror_mode": {
    "name": "ipython",
    "version": 3
   },
   "file_extension": ".py",
   "mimetype": "text/x-python",
   "name": "python",
   "nbconvert_exporter": "python",
   "pygments_lexer": "ipython3",
   "version": "3.6.2"
  }
 },
 "nbformat": 4,
 "nbformat_minor": 2
}
